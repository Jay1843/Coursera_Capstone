{
  "nbformat": 4,
  "nbformat_minor": 0,
  "metadata": {
    "colab": {
      "name": "Segmenting and Clustering Neighborhoods in Toronto ",
      "provenance": []
    },
    "kernelspec": {
      "name": "python3",
      "display_name": "Python 3"
    }
  },
  "cells": [
    {
      "cell_type": "markdown",
      "metadata": {
        "id": "DyxR7YYQVKUE",
        "colab_type": "text"
      },
      "source": [
        "Segmenting and Clustering Neighborhoods in Toronto\n"
      ]
    },
    {
      "cell_type": "markdown",
      "metadata": {
        "id": "WJK344ksVRfB",
        "colab_type": "text"
      },
      "source": [
        "Importa all necessary libraries\n"
      ]
    },
    {
      "cell_type": "code",
      "metadata": {
        "id": "49mnTMr8WJW0",
        "colab_type": "code",
        "colab": {
          "base_uri": "https://localhost:8080/",
          "height": 34
        },
        "outputId": "28a226fa-f615-4071-fbb4-53dd1096e003"
      },
      "source": [
        "!pip install beautifulsoup4"
      ],
      "execution_count": 2,
      "outputs": [
        {
          "output_type": "stream",
          "text": [
            "Requirement already satisfied: beautifulsoup4 in /usr/local/lib/python3.6/dist-packages (4.6.3)\n"
          ],
          "name": "stdout"
        }
      ]
    },
    {
      "cell_type": "code",
      "metadata": {
        "id": "spoQbOqTbZSx",
        "colab_type": "code",
        "colab": {
          "base_uri": "https://localhost:8080/",
          "height": 292
        },
        "outputId": "7d151ac4-4b40-4ae5-9f57-b7471d778ddf"
      },
      "source": [
        "!pip install wikipedia"
      ],
      "execution_count": 14,
      "outputs": [
        {
          "output_type": "stream",
          "text": [
            "Collecting wikipedia\n",
            "  Downloading https://files.pythonhosted.org/packages/67/35/25e68fbc99e672127cc6fbb14b8ec1ba3dfef035bf1e4c90f78f24a80b7d/wikipedia-1.4.0.tar.gz\n",
            "Requirement already satisfied: beautifulsoup4 in /usr/local/lib/python3.6/dist-packages (from wikipedia) (4.6.3)\n",
            "Requirement already satisfied: requests<3.0.0,>=2.0.0 in /usr/local/lib/python3.6/dist-packages (from wikipedia) (2.21.0)\n",
            "Requirement already satisfied: urllib3<1.25,>=1.21.1 in /usr/local/lib/python3.6/dist-packages (from requests<3.0.0,>=2.0.0->wikipedia) (1.24.3)\n",
            "Requirement already satisfied: chardet<3.1.0,>=3.0.2 in /usr/local/lib/python3.6/dist-packages (from requests<3.0.0,>=2.0.0->wikipedia) (3.0.4)\n",
            "Requirement already satisfied: certifi>=2017.4.17 in /usr/local/lib/python3.6/dist-packages (from requests<3.0.0,>=2.0.0->wikipedia) (2019.11.28)\n",
            "Requirement already satisfied: idna<2.9,>=2.5 in /usr/local/lib/python3.6/dist-packages (from requests<3.0.0,>=2.0.0->wikipedia) (2.8)\n",
            "Building wheels for collected packages: wikipedia\n",
            "  Building wheel for wikipedia (setup.py) ... \u001b[?25l\u001b[?25hdone\n",
            "  Created wheel for wikipedia: filename=wikipedia-1.4.0-cp36-none-any.whl size=11686 sha256=abe1259aa830460cd4046ce65f4d9058b0247abe54a1911ad1fcf042899d80d0\n",
            "  Stored in directory: /root/.cache/pip/wheels/87/2a/18/4e471fd96d12114d16fe4a446d00c3b38fb9efcb744bd31f4a\n",
            "Successfully built wikipedia\n",
            "Installing collected packages: wikipedia\n",
            "Successfully installed wikipedia-1.4.0\n"
          ],
          "name": "stdout"
        }
      ]
    },
    {
      "cell_type": "code",
      "metadata": {
        "id": "ki-F706Vgof4",
        "colab_type": "code",
        "colab": {
          "base_uri": "https://localhost:8080/",
          "height": 122
        },
        "outputId": "9c9bbdad-c991-4918-bf57-be6dd25328e7"
      },
      "source": [
        "!pip install requests"
      ],
      "execution_count": 27,
      "outputs": [
        {
          "output_type": "stream",
          "text": [
            "Requirement already satisfied: requests in /usr/local/lib/python3.6/dist-packages (2.21.0)\n",
            "Requirement already satisfied: certifi>=2017.4.17 in /usr/local/lib/python3.6/dist-packages (from requests) (2019.11.28)\n",
            "Requirement already satisfied: urllib3<1.25,>=1.21.1 in /usr/local/lib/python3.6/dist-packages (from requests) (1.24.3)\n",
            "Requirement already satisfied: chardet<3.1.0,>=3.0.2 in /usr/local/lib/python3.6/dist-packages (from requests) (3.0.4)\n",
            "Requirement already satisfied: idna<2.9,>=2.5 in /usr/local/lib/python3.6/dist-packages (from requests) (2.8)\n"
          ],
          "name": "stdout"
        }
      ]
    },
    {
      "cell_type": "code",
      "metadata": {
        "id": "0KGbl3JTVVRv",
        "colab_type": "code",
        "colab": {}
      },
      "source": [
        "import numpy as np\n",
        "import pandas as pd\n",
        "import requests\n",
        "from bs4 import BeautifulSoup\n",
        "import wikipedia as wp\n",
        "import json"
      ],
      "execution_count": 0,
      "outputs": []
    },
    {
      "cell_type": "code",
      "metadata": {
        "id": "6ojhaKJbi8mR",
        "colab_type": "code",
        "colab": {
          "base_uri": "https://localhost:8080/",
          "height": 34
        },
        "outputId": "345b68af-29f7-4950-dd72-22cb45ad954b"
      },
      "source": [
        "url=requests.get('https://en.wikipedia.org/wiki/List_of_postal_codes_of_Canada:_M')\n",
        "bs = BeautifulSoup(url.text, 'lxml')\n",
        "table = bs.find('table')\n",
        "td = table.find_all('td')\n",
        "postcode = []\n",
        "borough = []\n",
        "neighbourhood = []\n",
        "\n",
        "for i in range(0, len(td), 3):\n",
        "    postcode.append(td[i].text.strip())\n",
        "    borough.append(td[i+1].text.strip())\n",
        "    neighbourhood.append(td[i+2].text.strip())\n",
        "            \n",
        "dataframe = pd.DataFrame(data=[postcode, borough, neighbourhood]).transpose()\n",
        "dataframe.columns = ['Postal Code', 'Borough', 'Neighborhood'] ## The dataframe will have 3 columns\n",
        "dataframe['Borough'].replace('Not assigned', np.nan, inplace=True)\n",
        "dataframe.dropna(subset=['Borough'], inplace=True) #ignore unassigned Boroughs\n",
        "dataframe['Neighborhood'].replace('Not assigned', dataframe['Borough'], inplace=True) ##Empty Neighberhoods take the name of the Borough\n",
        "dataframe = dataframe.groupby(['Postal Code', 'Borough'])['Neighborhood'].apply('/ '.join).reset_index() ##Multiple Neighborhoods in on PC are combined\n",
        "dataframe.columns = ['Postal Code', 'Borough', 'Neighborhood']\n",
        "dataframe.shape"
      ],
      "execution_count": 45,
      "outputs": [
        {
          "output_type": "execute_result",
          "data": {
            "text/plain": [
              "(103, 3)"
            ]
          },
          "metadata": {
            "tags": []
          },
          "execution_count": 45
        }
      ]
    },
    {
      "cell_type": "code",
      "metadata": {
        "id": "Qyw1fl_0k1wc",
        "colab_type": "code",
        "colab": {}
      },
      "source": [
        ""
      ],
      "execution_count": 0,
      "outputs": []
    }
  ]
}