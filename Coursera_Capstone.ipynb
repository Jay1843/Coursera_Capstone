{
  "nbformat": 4,
  "nbformat_minor": 0,
  "metadata": {
    "colab": {
      "name": "Coursera_Capstone.ipynb",
      "provenance": []
    },
    "kernelspec": {
      "name": "python3",
      "display_name": "Python 3"
    }
  },
  "cells": [
    {
      "cell_type": "markdown",
      "metadata": {
        "id": "zbGuGxe6DzhA",
        "colab_type": "text"
      },
      "source": [
        "This is the notebook for the capstone project of Applied Data Science course\n"
      ]
    },
    {
      "cell_type": "markdown",
      "metadata": {
        "id": "VHMP2gXXD832",
        "colab_type": "text"
      },
      "source": [
        "**Import libraries**"
      ]
    },
    {
      "cell_type": "code",
      "metadata": {
        "id": "MYKqh6vcEEuw",
        "colab_type": "code",
        "colab": {}
      },
      "source": [
        "import pandas as pd\n",
        "import numpy as np"
      ],
      "execution_count": 0,
      "outputs": []
    },
    {
      "cell_type": "code",
      "metadata": {
        "id": "8qFiu-omEOfH",
        "colab_type": "code",
        "colab": {
          "base_uri": "https://localhost:8080/",
          "height": 34
        },
        "outputId": "5261c69f-88e1-4f1c-8538-9ae9a50694e4"
      },
      "source": [
        "print (\"Hello Capston Project Course!\")"
      ],
      "execution_count": 2,
      "outputs": [
        {
          "output_type": "stream",
          "text": [
            "Hello Capston Project Course!\n"
          ],
          "name": "stdout"
        }
      ]
    }
  ]
}